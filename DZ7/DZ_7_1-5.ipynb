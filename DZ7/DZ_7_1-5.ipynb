{
 "cells": [
  {
   "cell_type": "code",
   "execution_count": 22,
   "id": "e7b3fda3",
   "metadata": {},
   "outputs": [],
   "source": [
    "%matplotlib inline\n",
    "import numpy as np\n",
    "import matplotlib as mpl"
   ]
  },
  {
   "cell_type": "code",
   "execution_count": null,
   "id": "badd6bb6",
   "metadata": {},
   "outputs": [],
   "source": [
    "#ДЗ 7.0. Проверка свойств сложения и умножения матриц\n",
    "a = np.array([1, 2, 4],  [4, 0, 6], [7, 8, 9])\n",
    "b = np.array([2, 3, 4], [2, 5, 8], [1, 3, 0])\n",
    "k = 2\n",
    "l = 3\n",
    "print((k*l)*a)\n",
    "print(k*(l*a))\n",
    "print(\"\")\n",
    "print(k*(a +b))\n",
    "print(k * a + k * b)\n",
    "print(\"\")\n",
    "print((k + l) * a)\n",
    "print(k * a + l * a)\n",
    "print(\"\")\n",
    "print((a * b) * c)\n",
    "print(a * (b * c))\n",
    "print(\"\")\n",
    "print((a + b) * c)\n",
    "print(a * c + b * c))\n",
    "print(\"\")\n",
    "print((a * (b * c))\n",
    "print(a * b + a * c))"
   ]
  },
  {
   "cell_type": "code",
   "execution_count": 52,
   "id": "5a767336",
   "metadata": {},
   "outputs": [
    {
     "name": "stdout",
     "output_type": "stream",
     "text": [
      "Сложение\n",
      "[ 7  5 10  8 10]\n",
      "Вычитание\n",
      "[ 3  3  2 -2  8]\n",
      "Транспонирование\n",
      "[5 4 6 3 9]\n",
      "[2 1 4 5 1]\n",
      "Обращение\n",
      "[[0.2        0.         0.         0.         0.        ]\n",
      " [0.         0.25       0.         0.         0.        ]\n",
      " [0.         0.         0.16666667 0.         0.        ]\n",
      " [0.         0.         0.         0.33333333 0.        ]\n",
      " [0.         0.         0.         0.         0.11111111]]\n",
      "Умножение\n",
      "[[5. 0. 0. 0. 0.]\n",
      " [0. 4. 0. 0. 0.]\n",
      " [0. 0. 6. 0. 0.]\n",
      " [0. 0. 0. 3. 0.]\n",
      " [0. 0. 0. 0. 9.]]\n",
      "62\n",
      "62\n",
      "[10  8 12  6 18]\n",
      "[14 10 20 16 20]\n",
      "[20  8 48 30 18]\n"
     ]
    }
   ],
   "source": [
    "# Урок7. ДЗ 5.1. Умножение векторов\n",
    "v1 = np.array([5, 4, 6, 3, 9])\n",
    "v2 = np.array([2, 1, 4, 5, 1])\n",
    "print(\"Сложение\")\n",
    "print(np.add(v1, v2))\n",
    "print(\"Вычитание\")\n",
    "print(np.subtract(v1, v2))\n",
    "print(\"Транспонирование\")\n",
    "print(v1.transpose())\n",
    "print(v2.transpose())\n",
    "print(\"Обращение\")\n",
    "e = np.identity(5)\n",
    "v_1 = v1 * e\n",
    "print(np.linalg.inv(v_1))\n",
    "print(\"Умножение\")\n",
    "print(v_1 * e)\n",
    "k = 2\n",
    "print(np.dot(v1, v2))\n",
    "print(np.dot(v2, v1))\n",
    "print(np.dot(k, v1))\n",
    "print(k * (v1 + v2))\n",
    "print(k * v1 * v2)"
   ]
  },
  {
   "cell_type": "code",
   "execution_count": 57,
   "id": "5f00f951",
   "metadata": {},
   "outputs": [
    {
     "name": "stdout",
     "output_type": "stream",
     "text": [
      "[[1 2 3]\n",
      " [4 0 6]\n",
      " [7 8 9]]\n",
      "60\n",
      "59.999999999999986\n"
     ]
    }
   ],
   "source": [
    "# Урок7.Определители матриц\n",
    "# ДЗ 5.2. Расчет определителя\n",
    "matrix1 = np.array([[1, 2, 3], [4, 0, 6], [7, 8, 9]])\n",
    "print(matrix1)\n",
    "det1 = 1 * (0*9 - 8*6)-2*(4*9-7*6)+3*(4*8-7*0)\n",
    "print(det1)\n",
    "print(np.linalg.det(matrix1))"
   ]
  },
  {
   "cell_type": "code",
   "execution_count": 66,
   "id": "0b827d6a",
   "metadata": {},
   "outputs": [
    {
     "name": "stdout",
     "output_type": "stream",
     "text": [
      "[[-0.8         0.1         0.2       ]\n",
      " [ 0.1        -0.2         0.1       ]\n",
      " [ 0.53333333  0.1        -0.13333333]]\n"
     ]
    }
   ],
   "source": [
    "# Урок7.Обратная матрица\n",
    "# ДЗ 5.3. Расчет обращение матрицы\n",
    "matrix2 = np.array([[1, 2, 3], [4, 0, 6], [7, 8, 9]])\n",
    "print(np.linalg.inv(matrix2))"
   ]
  },
  {
   "cell_type": "code",
   "execution_count": 76,
   "id": "2ecd45ec",
   "metadata": {},
   "outputs": [
    {
     "name": "stdout",
     "output_type": "stream",
     "text": [
      "3\n",
      "1\n",
      "3\n"
     ]
    }
   ],
   "source": [
    "# ДЗ 5.3. Ранг матрицы\n",
    "print(np.linalg.matrix_rank(matrix2, 0.0001))\n",
    "matrix3 = np.array([[1, 2, 3, 4], [2, 4, 6, 8], [1, -2, -3, -4], [-2, -4, -6, -8]])\n",
    "print(np.linalg.matrix_rank(matrix3, 0.0001))\n",
    "print(np.linalg.matrix_rank(e, 0.0001))"
   ]
  },
  {
   "cell_type": "code",
   "execution_count": 79,
   "id": "a012a3b0",
   "metadata": {},
   "outputs": [
    {
     "name": "stdout",
     "output_type": "stream",
     "text": [
      "42\n"
     ]
    }
   ],
   "source": [
    "#ДЗ 5.4.Скалярное произведение векторов\n",
    "a = np.array([1, 5])\n",
    "b = np.array([2, 8])\n",
    "print(np.inner(a, b))"
   ]
  },
  {
   "cell_type": "code",
   "execution_count": 108,
   "id": "fbf7dcbb",
   "metadata": {},
   "outputs": [
    {
     "name": "stdout",
     "output_type": "stream",
     "text": [
      "228.5\n",
      "228.5\n"
     ]
    }
   ],
   "source": [
    "# ДЗ 5.5. Смешанное произведение векторов\n",
    "a = np.array([1, 5, 0], float)\n",
    "b = np.array([2, 8, 7], float)\n",
    "c = np.array([7, 1.5, 3], float)\n",
    "v = np.cross(a, b)\n",
    "print(np.inner(v, c))\n",
    "v = np.cross(b, c)\n",
    "print(np.inner(a, v))"
   ]
  },
  {
   "cell_type": "code",
   "execution_count": null,
   "id": "2576abc2",
   "metadata": {},
   "outputs": [],
   "source": []
  }
 ],
 "metadata": {
  "kernelspec": {
   "display_name": "Python 3 (ipykernel)",
   "language": "python",
   "name": "python3"
  },
  "language_info": {
   "codemirror_mode": {
    "name": "ipython",
    "version": 3
   },
   "file_extension": ".py",
   "mimetype": "text/x-python",
   "name": "python",
   "nbconvert_exporter": "python",
   "pygments_lexer": "ipython3",
   "version": "3.9.12"
  }
 },
 "nbformat": 4,
 "nbformat_minor": 5
}
