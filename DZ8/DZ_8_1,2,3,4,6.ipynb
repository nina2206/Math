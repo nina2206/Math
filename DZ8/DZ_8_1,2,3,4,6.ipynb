{
 "cells": [
  {
   "cell_type": "code",
   "execution_count": 128,
   "id": "e7b3fda3",
   "metadata": {},
   "outputs": [],
   "source": [
    "# ДЗ к уроку 8\n",
    "%matplotlib inline\n",
    "import numpy as np\n",
    "import matplotlib as mpl\n",
    "import scipy.linalg\n",
    "import scipy.optimize"
   ]
  },
  {
   "cell_type": "code",
   "execution_count": 122,
   "id": "819e474c",
   "metadata": {},
   "outputs": [
    {
     "name": "stdout",
     "output_type": "stream",
     "text": [
      "Determinant is: 59.999999999999986 \n",
      " Let's find the only solusion\n",
      "the result is vector: [-9.2         0.9         6.46666667]\n",
      "Check the result: [12.  2.  1.]\n"
     ]
    }
   ],
   "source": [
    "# ДЗ 1\n",
    "A = np.array([[1, 2, 3], [4, 0, 6], [7, 8, 9]])\n",
    "b = np.array([12, 2, 1])\n",
    "d_a = np.linalg.det(A)\n",
    "print(\"Determinant is:\", d_a, \"\\n Let's find the only solusion\")\n",
    "x = np.dot(np.linalg.inv(A), b)\n",
    "print(\"the result is vector:\", x)\n",
    "print(\"Check the result:\", np.dot(A, x))"
   ]
  },
  {
   "cell_type": "code",
   "execution_count": 123,
   "id": "5a767336",
   "metadata": {},
   "outputs": [
    {
     "name": "stdout",
     "output_type": "stream",
     "text": [
      "Максимально приближеннное решение (псевдорешение): [ 1.13919353 -0.90498444 -0.9009803 ]\n",
      "Проверка: [ 0.23020495  7.03751834 11.83650981  6.78328855 15.21805313]\n"
     ]
    }
   ],
   "source": [
    "# ДЗ 2\n",
    "A = np.array([[1, 2, -1], [3, -4, 0], [8, -5, 2], [2, 0, -5], [11, 4, -7]])\n",
    "b = np.array([1, 7, 12, 7, 15])\n",
    "A_new = np.dot(np.transpose(A), A)\n",
    "b_new = np.dot(np.transpose(A), b)\n",
    "x = np.dot(np.linalg.inv(A_new), b_new)\n",
    "print(\"Максимально приближеннное решение (псевдорешение):\", x)\n",
    "print(\"Проверка:\", np.dot(A, x))\n"
   ]
  },
  {
   "cell_type": "code",
   "execution_count": 124,
   "id": "5f00f951",
   "metadata": {},
   "outputs": [
    {
     "name": "stdout",
     "output_type": "stream",
     "text": [
      "Ранг матрицы системы: 2\n",
      "Ранг расширенной матрицы: 3\n",
      "Ранги матрицы системы и основной матрицы не равны => система несовместна, точного решения нет\n",
      "но можно найти псевдорешение по методу наименьших квадратов\n",
      "Максимально приближеннное решение (псевдорешение): [-8.    0.    6.25]\n",
      "Проверка: [10.75  5.5   0.25]\n"
     ]
    }
   ],
   "source": [
    "# ДЗ 3\n",
    "A = np.array([[1, 2, 3], [4, 5, 6], [7, 8, 9]])\n",
    "b = np.array([12, 2, 1])\n",
    "A_b = np.hstack((A, np.atleast_2d(b).T))\n",
    "r_a = np.linalg.matrix_rank(A, 0.0001)\n",
    "r_ab = np.linalg.matrix_rank(A_b, 0.0001)\n",
    "print(\"Ранг матрицы системы:\", r_a)\n",
    "print(\"Ранг расширенной матрицы:\", r_ab)\n",
    "#определим совместна или нет ситстема. Далее произойдет выбор алгоритма решения\n",
    "if r_a != r_ab:\n",
    "    print(\"Ранги матрицы системы и основной матрицы не равны => система несовместна, точного решения нет\")\n",
    "    print(\"но можно найти псевдорешение по методу наименьших квадратов\")\n",
    "    A_new = np.dot(np.transpose(A), A)\n",
    "    b_new = np.dot(np.transpose(A), b)\n",
    "    x = np.dot(np.linalg.inv(A_new), b_new)\n",
    "    print(\"Максимально приближеннное решение (псевдорешение):\", x)\n",
    "    print(\"Проверка:\", np.dot(A, x))\n",
    "else:\n",
    "    x = np.dot(np.linalg.inv(A), b)\n",
    "    print(\"the result is vector:\", x)\n",
    "    print(\"Check the result:\", np.dot(A, x))"
   ]
  },
  {
   "cell_type": "code",
   "execution_count": 125,
   "id": "0b827d6a",
   "metadata": {},
   "outputs": [
    {
     "name": "stdout",
     "output_type": "stream",
     "text": [
      "[[0. 1. 0.]\n",
      " [0. 0. 1.]\n",
      " [1. 0. 0.]]\n",
      "[[ 1.    0.    0.  ]\n",
      " [ 0.25  1.    0.  ]\n",
      " [ 0.5  -0.4   1.  ]]\n",
      "[[  4.    28.    73.  ]\n",
      " [  0.    -5.   -15.25]\n",
      " [  0.     0.   -21.6 ]]\n",
      "[[ 1.  2.  3.]\n",
      " [ 2. 16. 21.]\n",
      " [ 4. 28. 73.]]\n"
     ]
    }
   ],
   "source": [
    "# ДЗ 4\n",
    "# PLU-разложение\n",
    "A = np.array([[1, 2, 3] , [2, 16, 21], [4, 28, 73]])\n",
    "P, L, U = scipy.linalg.lu(A)\n",
    "print(P)\n",
    "print(L)\n",
    "print(U)\n",
    "# Проверкa LU-раздожения решения, которое на листочке\n",
    "L= np.array([[1, 0, 0] , [2, 1, 0], [4, 20/12, 1]])\n",
    "U= np.array([[1, 2, 3] , [0, 12, 15], [0, 0, 36]])\n",
    "print(np.dot(L, U))"
   ]
  },
  {
   "cell_type": "code",
   "execution_count": 129,
   "id": "a012a3b0",
   "metadata": {},
   "outputs": [
    {
     "name": "stdout",
     "output_type": "stream",
     "text": [
      "Ранг матрицы системы: 2\n",
      "Ранг расширенной матрицы: 3\n",
      "Ранги матрицы системы и основной матрицы не равны => система несовместна, точного решения нет\n",
      "но можно найти псевдорешение по методу наименьших квадратов\n",
      "Максимально приближеннное решение (псевдорешение): [1. 0. 0.]\n",
      "Проверка: [1. 4. 7.]\n"
     ]
    }
   ],
   "source": [
    "#ДЗ 6\n",
    "A = np.array([[1, 2, 3], [4, 5, 6], [7, 8, 9]])\n",
    "b = np.array([2, 5, 11])\n",
    "A_b = np.hstack((A, np.atleast_2d(b).T))\n",
    "r_a = np.linalg.matrix_rank(A, 0.0001)\n",
    "r_ab = np.linalg.matrix_rank(A_b, 0.0001)\n",
    "print(\"Ранг матрицы системы:\", r_a)\n",
    "print(\"Ранг расширенной матрицы:\", r_ab)\n",
    "#определим совместна или нет ситстема. Далее произойдет выбор алгоритма решения\n",
    "if r_a != r_ab:\n",
    "    print(\"Ранги матрицы системы и основной матрицы не равны => система несовместна, точного решения нет\")\n",
    "    print(\"но можно найти псевдорешение по методу наименьших квадратов\")\n",
    "    A_new = np.dot(np.transpose(A), A)\n",
    "    b_new = np.dot(np.transpose(A), b)\n",
    "    x = np.dot(np.linalg.inv(A_new), b_new)\n",
    "    print(\"Максимально приближеннное решение (псевдорешение):\", x)\n",
    "    print(\"Проверка:\", np.dot(A, x))\n",
    "else:\n",
    "    x = np.dot(np.linalg.inv(A), b)\n",
    "    print(\"the result is vector:\", x)\n",
    "    print(\"Check the result:\", np.dot(A, x))"
   ]
  },
  {
   "cell_type": "code",
   "execution_count": null,
   "id": "1f79c3e1",
   "metadata": {},
   "outputs": [],
   "source": []
  }
 ],
 "metadata": {
  "kernelspec": {
   "display_name": "Python 3 (ipykernel)",
   "language": "python",
   "name": "python3"
  },
  "language_info": {
   "codemirror_mode": {
    "name": "ipython",
    "version": 3
   },
   "file_extension": ".py",
   "mimetype": "text/x-python",
   "name": "python",
   "nbconvert_exporter": "python",
   "pygments_lexer": "ipython3",
   "version": "3.9.12"
  }
 },
 "nbformat": 4,
 "nbformat_minor": 5
}
