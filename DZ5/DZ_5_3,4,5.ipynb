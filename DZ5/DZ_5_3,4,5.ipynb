{
 "cells": [
  {
   "cell_type": "code",
   "execution_count": 41,
   "id": "8f38d1fc",
   "metadata": {},
   "outputs": [],
   "source": [
    "%matplotlib inline\n",
    "import numpy as np\n",
    "import itertools as itr\n",
    "import math\n",
    "import matplotlib.pyplot as plt"
   ]
  },
  {
   "cell_type": "code",
   "execution_count": 42,
   "id": "5f7b8f94",
   "metadata": {},
   "outputs": [
    {
     "name": "stdout",
     "output_type": "stream",
     "text": [
      "188128 500000 0.376256\n"
     ]
    }
   ],
   "source": [
    "#Расчет вероятности равного выпадения орлов и решек на 4-х испытаниях\n",
    "# Метод Монте-Карло\n",
    "k, n = 0, 500000\n",
    "a = np.random.randint(0, 2, n)\n",
    "b = np.random.randint(0, 2, n)\n",
    "c = np.random.randint(0, 2, n)\n",
    "d = np.random.randint(0, 2, n)\n",
    "x = a + b + c + d\n",
    "for i in range(0, n):\n",
    "    if x[i] == 2:\n",
    "        k += 1\n",
    "print(k, n, k/n)"
   ]
  },
  {
   "cell_type": "code",
   "execution_count": 43,
   "id": "a7194436",
   "metadata": {},
   "outputs": [
    {
     "name": "stdout",
     "output_type": "stream",
     "text": [
      "0.375\n",
      "Вывод: с ростом количества испытаний по методу Монте-Карло растет точность предсказания вероятности.\n",
      "\n",
      "Результат расчета по методу Монте-Карло приближается к результатуб полученному по формуле Бернулли\n"
     ]
    }
   ],
   "source": [
    "#Рассчет по формуле Бернулли, 2 успеха на 4-х испытаниях\n",
    "n = 4\n",
    "k = 2\n",
    "cnk = math.factorial(n)/(math.factorial(k)*math.factorial(n-k))\n",
    "binom = cnk*0.5**k*0.5**(n-k)\n",
    "print(binom)\n",
    "print('Вывод: с ростом количества испытаний по методу Монте-Карло растет точность предсказания вероятности.\\n')\n",
    "print('Результат расчета по методу Монте-Карло приближается к результатуб полученному по формуле Бернулли')"
   ]
  },
  {
   "cell_type": "code",
   "execution_count": 44,
   "id": "8078c25f",
   "metadata": {},
   "outputs": [
    {
     "name": "stdout",
     "output_type": "stream",
     "text": [
      "0.24609375\n"
     ]
    }
   ],
   "source": [
    "#Рассчет по формуле Бернулли, 3 успеха на 10-ти испытаниях\n",
    "n = 10\n",
    "k = 5\n",
    "cnk = math.factorial(n)/(math.factorial(k)*math.factorial(n-k))\n",
    "binom = cnk*0.5**k*0.5**(n-k)\n",
    "print(binom)"
   ]
  },
  {
   "cell_type": "code",
   "execution_count": 45,
   "id": "dd0f3b91",
   "metadata": {},
   "outputs": [
    {
     "name": "stdout",
     "output_type": "stream",
     "text": [
      "000\n",
      "001\n",
      "003\n",
      "010\n",
      "011\n",
      "013\n",
      "030\n",
      "031\n",
      "033\n",
      "100\n",
      "101\n",
      "103\n",
      "110\n",
      "111\n",
      "113\n",
      "130\n",
      "131\n",
      "133\n",
      "300\n",
      "301\n",
      "303\n",
      "310\n",
      "311\n",
      "313\n",
      "330\n",
      "331\n",
      "333\n",
      "Количество размещений:  27\n"
     ]
    }
   ],
   "source": [
    "# Расчет возможных комбинаций\n",
    "# размещений элементов\n",
    "n = 0\n",
    "for p in itr.product('013', repeat=3):\n",
    "    print(''.join(p))\n",
    "    n += 1\n",
    "print(\"Количество размещений: \", n)"
   ]
  },
  {
   "cell_type": "code",
   "execution_count": 46,
   "id": "c2720201",
   "metadata": {},
   "outputs": [
    {
     "name": "stdout",
     "output_type": "stream",
     "text": [
      "013\n",
      "031\n",
      "103\n",
      "130\n",
      "301\n",
      "310\n",
      "Количество перестановок:  6\n"
     ]
    }
   ],
   "source": [
    "# количество перестановок\n",
    "n = 0\n",
    "for p in itr.permutations('013', 3):\n",
    "    print(''.join(str(x) for x in p))\n",
    "    n += 1\n",
    "print(\"Количество перестановок: \", n)"
   ]
  },
  {
   "cell_type": "code",
   "execution_count": 47,
   "id": "635cfce6",
   "metadata": {},
   "outputs": [
    {
     "name": "stdout",
     "output_type": "stream",
     "text": [
      "01\n",
      "03\n",
      "13\n",
      "Количество сочетаний:  3\n"
     ]
    }
   ],
   "source": [
    "# количество перестановок\n",
    "n = 0\n",
    "for p in itr.combinations('013', 2):\n",
    "    print(''.join(p))\n",
    "    n += 1\n",
    "print(\"Количество сочетаний: \", n)"
   ]
  },
  {
   "cell_type": "code",
   "execution_count": 54,
   "id": "8a9bc60c",
   "metadata": {},
   "outputs": [
    {
     "name": "stderr",
     "output_type": "stream",
     "text": [
      "C:\\Users\\Nina\\AppData\\Local\\Temp\\ipykernel_4388\\255844769.py:12: FutureWarning: `rcond` parameter will change to the default of machine precision times ``max(M, N)`` where M and N are the input matrix dimensions.\n",
      "To use the future default and silence this warning we advise to pass `rcond=None`, to keep using the old, explicitly pass `rcond=-1`.\n",
      "  a, b = np.linalg.lstsq(A, y)[0]\n"
     ]
    },
    {
     "data": {
      "image/png": "[encoded data removed]",
      "text/plain": [
       "<Figure size 432x288 with 1 Axes>"
      ]
     },
     "metadata": {
      "needs_background": "light"
     },
     "output_type": "display_data"
    },
    {
     "name": "stdout",
     "output_type": "stream",
     "text": [
      "Коэфициент корреляции x и y: 0.9304710339557313\n",
      "Коэффициент корреляции стремиться к 1, следовательно, выборка по x и выборка по y имеют сильную линейную созависимость\n"
     ]
    }
   ],
   "source": [
    "#Построение линейной регрессии и расчет коэффициента корреляции\n",
    "n = 100\n",
    "r = 0.7\n",
    "x = np.random.rand(n)\n",
    "y = r*x + (1 - r)*np.random.rand(n)\n",
    "plt.plot(x, y, 'o')\n",
    "plt.xlabel('x')\n",
    "plt.ylabel('y')\n",
    "plt.grid()\n",
    "\n",
    "A = np.vstack([x, np.ones(len(x))]).T\n",
    "a, b = np.linalg.lstsq(A, y)[0]\n",
    "plt.plot([0, 1], [b, a + b])\n",
    "plt.show()\n",
    "\n",
    "y_ev = sum(y)/n\n",
    "x_ev = sum(x)/n\n",
    "R = sum((x-x_ev)*(y-y_ev))/np.sqrt(sum((x-x_ev)**2)*sum((y-y_ev)**2))\n",
    "print('Коэфициент корреляции x и y:', R)\n",
    "print('Коэффициент корреляции стремиться к 1, следовательно, выборка по x и выборка по y имеют сильную линейную созависимость')"
   ]
  },
  {
   "cell_type": "code",
   "execution_count": null,
   "id": "52e96037",
   "metadata": {},
   "outputs": [],
   "source": []
  }
 ],
 "metadata": {
  "kernelspec": {
   "display_name": "Python 3 (ipykernel)",
   "language": "python",
   "name": "python3"
  },
  "language_info": {
   "codemirror_mode": {
    "name": "ipython",
    "version": 3
   },
   "file_extension": ".py",
   "mimetype": "text/x-python",
   "name": "python",
   "nbconvert_exporter": "python",
   "pygments_lexer": "ipython3",
   "version": "3.9.12"
  }
 },
 "nbformat": 4,
 "nbformat_minor": 5
}
