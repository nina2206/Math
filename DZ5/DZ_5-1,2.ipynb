{
 "cells": [
  {
   "cell_type": "code",
   "execution_count": 46,
   "id": "82a2ff3b",
   "metadata": {},
   "outputs": [],
   "source": [
    "%matplotlib inline\n",
    "import numpy as np\n",
    "import matplotlib.pyplot as plt\n",
    "import matplotlib.mlab as mlab"
   ]
  },
  {
   "cell_type": "code",
   "execution_count": 47,
   "id": "c04f9395",
   "metadata": {},
   "outputs": [
    {
     "name": "stdout",
     "output_type": "stream",
     "text": [
      "12\n",
      "press q to stop roulette\n",
      "29\n",
      "press q to stop roulette\n",
      "19\n",
      "press q to stop roulette\n",
      "21\n",
      "press q to stop roulette\n",
      "21\n",
      "press q to stop roulette\n",
      "21\n",
      "press q to stop rouletteq\n",
      "6\n",
      "Probability \"red\":  0.8333333333333334\n",
      "Probability \"black\":  0.16666666666666666\n",
      "Probability \"zero\":  0.0\n",
      "Проверка теоремы сложения вероятностей:  1.0\n"
     ]
    }
   ],
   "source": [
    "# модель выпадения поля в рулетке\n",
    "a = 0\n",
    "n = 0\n",
    "k_black = 0\n",
    "k_red = 0\n",
    "zero = 0\n",
    "while a != \"q\":\n",
    "    x = np.random.randint(0, 36)\n",
    "    print(x)\n",
    "    n += 1\n",
    "    if x in range(1, 19):\n",
    "        k_black += 1\n",
    "    elif x in range(19, 37):\n",
    "        k_red += 1\n",
    "    else:\n",
    "        zero += 1\n",
    "    a = input('press q to stop roulette')\n",
    "print(n)\n",
    "print('Probability \"red\": ', k_red/n)\n",
    "print('Probability \"black\": ', k_black/n)\n",
    "print('Probability \"zero\": ', zero/n)\n",
    "# проверка теоремы сложения вероятностей \n",
    "# выпадение полей - это несовместные события, сумма вероятностей должна быть равна единице)\n",
    "print('Проверка теоремы сложения вероятностей: ', k_red/n+k_black/n+zero/n)"
   ]
  },
  {
   "cell_type": "code",
   "execution_count": 56,
   "id": "0e49cf59",
   "metadata": {},
   "outputs": [
    {
     "name": "stdout",
     "output_type": "stream",
     "text": [
      "[-1.6819555161407431, -3.689966287524818, 3.870104340056536, 5.345859931117417, -1.424792654745606, 1.1167712039335416, -0.6144035133054012, 0.9328586468674192, 2.4670615730212226, 1.6244587082475401]\n"
     ]
    },
    {
     "data": {
      "text/plain": [
       "Text(0.5, 1.0, 'histogramm')"
      ]
     },
     "execution_count": 56,
     "metadata": {},
     "output_type": "execute_result"
    },
    {
     "data": {
      "image/png": "[encoded data removed]",
      "text/plain": [
       "<Figure size 432x288 with 1 Axes>"
      ]
     },
     "metadata": {
      "needs_background": "light"
     },
     "output_type": "display_data"
    }
   ],
   "source": [
    "# генерация выборок случайных чисел, суммирование, построение гистограммы сумм\n",
    "sums = []\n",
    "n = 0\n",
    "while n < 10:\n",
    "    x = np.random.randn(10)\n",
    "    sums.append(sum(x))\n",
    "    n += 1\n",
    "print(sums)\n",
    "num_bins = n\n",
    "n, bins, patches = plt.hist(sums, num_bins)\n",
    "plt.xlabel('sums gradation')\n",
    "plt.ylabel('quantity of elements')\n",
    "plt.title('histogramm')"
   ]
  },
  {
   "cell_type": "code",
   "execution_count": null,
   "id": "19c07072",
   "metadata": {},
   "outputs": [],
   "source": []
  },
  {
   "cell_type": "code",
   "execution_count": null,
   "id": "fab7fc95",
   "metadata": {},
   "outputs": [],
   "source": []
  },
  {
   "cell_type": "code",
   "execution_count": null,
   "id": "584f9c5c",
   "metadata": {},
   "outputs": [],
   "source": []
  }
 ],
 "metadata": {
  "kernelspec": {
   "display_name": "Python 3 (ipykernel)",
   "language": "python",
   "name": "python3"
  },
  "language_info": {
   "codemirror_mode": {
    "name": "ipython",
    "version": 3
   },
   "file_extension": ".py",
   "mimetype": "text/x-python",
   "name": "python",
   "nbconvert_exporter": "python",
   "pygments_lexer": "ipython3",
   "version": "3.9.12"
  }
 },
 "nbformat": 4,
 "nbformat_minor": 5
}
