{
 "cells": [
  {
   "cell_type": "code",
   "execution_count": 22,
   "id": "e7b3fda3",
   "metadata": {},
   "outputs": [],
   "source": [
    "%matplotlib inline\n",
    "import numpy as np\n",
    "import matplotlib as mpl"
   ]
  },
  {
   "cell_type": "code",
   "execution_count": 29,
   "id": "9f7d9e49",
   "metadata": {
    "scrolled": true
   },
   "outputs": [
    {
     "name": "stdout",
     "output_type": "stream",
     "text": [
      "[[15. 13. 14.]\n",
      " [ 7.  7. 10.]\n",
      " [16. 56. 89.]\n",
      " [13. 15. 10.]]\n"
     ]
    }
   ],
   "source": [
    "a = np.array([[15, 13 , 14], [7, 7, 10], [16, 56, 89], [13, 15, 10]], float)\n",
    "b = np.array([[1, 2, 3], [2, 5, 7], [1, 2, 3]], int)\n",
    "print(a)"
   ]
  },
  {
   "cell_type": "code",
   "execution_count": 18,
   "id": "e8e8054e",
   "metadata": {},
   "outputs": [
    {
     "name": "stdout",
     "output_type": "stream",
     "text": [
      "(4, 3)\n"
     ]
    }
   ],
   "source": [
    "print(a.shape)"
   ]
  },
  {
   "cell_type": "code",
   "execution_count": 21,
   "id": "888e015a",
   "metadata": {},
   "outputs": [
    {
     "name": "stdout",
     "output_type": "stream",
     "text": [
      "[[ 16.  15.  17.]\n",
      " [  9.  12.  17.]\n",
      " [ 50. 112. 166.]\n",
      " [ 33.  65.  50.]]\n",
      "[[ 14.  11.  11.]\n",
      " [  5.   2.   3.]\n",
      " [-18.   0.  12.]\n",
      " [ -7. -35. -30.]]\n"
     ]
    }
   ],
   "source": [
    "# сложение и вычитание матриц\n",
    "print(np.add(a,b))\n",
    "print(np.subtract(a, b))"
   ]
  },
  {
   "cell_type": "code",
   "execution_count": 23,
   "id": "473e9ed3",
   "metadata": {},
   "outputs": [
    {
     "name": "stdout",
     "output_type": "stream",
     "text": [
      "[[15.  7. 16. 13.]\n",
      " [13.  7. 56. 15.]\n",
      " [14. 10. 89. 10.]]\n"
     ]
    }
   ],
   "source": [
    "# транспонирование матриц\n",
    "print(a.transpose())"
   ]
  },
  {
   "cell_type": "code",
   "execution_count": null,
   "id": "9ee673f1",
   "metadata": {},
   "outputs": [],
   "source": [
    "#умножение матриц\n",
    "c = np.dot(a, b)\n",
    "d = np.dot(b, a)"
   ]
  },
  {
   "cell_type": "code",
   "execution_count": 56,
   "id": "f0d463ad",
   "metadata": {},
   "outputs": [
    {
     "name": "stdout",
     "output_type": "stream",
     "text": [
      "[[5. 0. 0.]\n",
      " [0. 5. 0.]\n",
      " [0. 0. 5.]]\n"
     ]
    }
   ],
   "source": [
    "#Создание единичной матрицы\n",
    "n = 3 #размерность матрицы\n",
    "e = np.identity(n)\n",
    "e1 = np.linalg.inv(e)\n",
    "print(5*e1)"
   ]
  },
  {
   "cell_type": "code",
   "execution_count": 44,
   "id": "e6816644",
   "metadata": {},
   "outputs": [
    {
     "name": "stdout",
     "output_type": "stream",
     "text": [
      "[[1.         0.         0.        ]\n",
      " [0.         0.2        0.        ]\n",
      " [0.         0.         0.33333333]]\n"
     ]
    }
   ],
   "source": [
    "# обращение матриц\n",
    "m = b * e\n",
    "f = np.linalg.inv(m)\n",
    "print(f)"
   ]
  },
  {
   "cell_type": "code",
   "execution_count": null,
   "id": "42681406",
   "metadata": {},
   "outputs": [],
   "source": []
  },
  {
   "cell_type": "code",
   "execution_count": null,
   "id": "badd6bb6",
   "metadata": {},
   "outputs": [],
   "source": [
    "#ДЗ 7.0. Проверка свойств сложения и умножения матриц\n",
    "k = 2\n",
    "l = 3\n",
    "print((k*l)*a)\n",
    "print(k*(l*a))\n",
    "print(\"\")\n",
    "print(k*(a +b))\n",
    "print(k * a + k * b)\n",
    "print(\"\")\n",
    "print((k + l) * a)\n",
    "print(k * a + l * a)\n",
    "print(\"\")\n",
    "print((a * b) * c)\n",
    "print(a * (b * c))\n",
    "print(\"\")\n",
    "print((a + b) * c)\n",
    "print(a * c + b * c))\n",
    "print(\"\")\n",
    "print((a * (b * c))\n",
    "print(a * b + a * c))"
   ]
  },
  {
   "cell_type": "code",
   "execution_count": 52,
   "id": "5a767336",
   "metadata": {},
   "outputs": [
    {
     "name": "stdout",
     "output_type": "stream",
     "text": [
      "Сложение\n",
      "[ 7  5 10  8 10]\n",
      "Вычитание\n",
      "[ 3  3  2 -2  8]\n",
      "Транспонирование\n",
      "[5 4 6 3 9]\n",
      "[2 1 4 5 1]\n",
      "Обращение\n",
      "[[0.2        0.         0.         0.         0.        ]\n",
      " [0.         0.25       0.         0.         0.        ]\n",
      " [0.         0.         0.16666667 0.         0.        ]\n",
      " [0.         0.         0.         0.33333333 0.        ]\n",
      " [0.         0.         0.         0.         0.11111111]]\n",
      "Умножение\n",
      "[[5. 0. 0. 0. 0.]\n",
      " [0. 4. 0. 0. 0.]\n",
      " [0. 0. 6. 0. 0.]\n",
      " [0. 0. 0. 3. 0.]\n",
      " [0. 0. 0. 0. 9.]]\n",
      "62\n",
      "62\n",
      "[10  8 12  6 18]\n",
      "[14 10 20 16 20]\n",
      "[20  8 48 30 18]\n"
     ]
    }
   ],
   "source": [
    "# Урок7. ДЗ 5.1. Умножение векторов\n",
    "v1 = np.array([5, 4, 6, 3, 9])\n",
    "v2 = np.array([2, 1, 4, 5, 1])\n",
    "print(\"Сложение\")\n",
    "print(np.add(v1, v2))\n",
    "print(\"Вычитание\")\n",
    "print(np.subtract(v1, v2))\n",
    "print(\"Транспонирование\")\n",
    "print(v1.transpose())\n",
    "print(v2.transpose())\n",
    "print(\"Обращение\")\n",
    "e = np.identity(5)\n",
    "v_1 = v1 * e\n",
    "print(np.linalg.inv(v_1))\n",
    "print(\"Умножение\")\n",
    "print(v_1 * e)\n",
    "k = 2\n",
    "print(np.dot(v1, v2))\n",
    "print(np.dot(v2, v1))\n",
    "print(np.dot(k, v1))\n",
    "print(k * (v1 + v2))\n",
    "print(k * v1 * v2)"
   ]
  },
  {
   "cell_type": "code",
   "execution_count": 57,
   "id": "5f00f951",
   "metadata": {},
   "outputs": [
    {
     "name": "stdout",
     "output_type": "stream",
     "text": [
      "[[1 2 3]\n",
      " [4 0 6]\n",
      " [7 8 9]]\n",
      "60\n",
      "59.999999999999986\n"
     ]
    }
   ],
   "source": [
    "# Урок7.Определители матриц\n",
    "# ДЗ 5.2. Расчет определителя\n",
    "matrix1 = np.array([[1, 2, 3], [4, 0, 6], [7, 8, 9]])\n",
    "print(matrix1)\n",
    "det1 = 1 * (0*9 - 8*6)-2*(4*9-7*6)+3*(4*8-7*0)\n",
    "print(det1)\n",
    "print(np.linalg.det(matrix1))"
   ]
  },
  {
   "cell_type": "code",
   "execution_count": 66,
   "id": "0b827d6a",
   "metadata": {},
   "outputs": [
    {
     "name": "stdout",
     "output_type": "stream",
     "text": [
      "[[-0.8         0.1         0.2       ]\n",
      " [ 0.1        -0.2         0.1       ]\n",
      " [ 0.53333333  0.1        -0.13333333]]\n"
     ]
    }
   ],
   "source": [
    "# Урок7.Обратная матрица\n",
    "# ДЗ 5.3. Расчет обращение матрицы\n",
    "matrix2 = np.array([[1, 2, 3], [4, 0, 6], [7, 8, 9]])\n",
    "print(np.linalg.inv(matrix2))"
   ]
  },
  {
   "cell_type": "code",
   "execution_count": 76,
   "id": "2ecd45ec",
   "metadata": {},
   "outputs": [
    {
     "name": "stdout",
     "output_type": "stream",
     "text": [
      "3\n",
      "1\n",
      "3\n"
     ]
    }
   ],
   "source": [
    "# ДЗ 5.3. Ранг матрицы\n",
    "print(np.linalg.matrix_rank(matrix2, 0.0001))\n",
    "matrix3 = np.array([[1, 2, 3, 4], [2, 4, 6, 8], [1, -2, -3, -4], [-2, -4, -6, -8]])\n",
    "print(np.linalg.matrix_rank(matrix3, 0.0001))\n",
    "print(np.linalg.matrix_rank(e, 0.0001))"
   ]
  },
  {
   "cell_type": "code",
   "execution_count": 78,
   "id": "40108e34",
   "metadata": {},
   "outputs": [
    {
     "name": "stdout",
     "output_type": "stream",
     "text": [
      "[1 2 3 4 5] [0 9 8 7 6]\n",
      "100\n",
      "100\n",
      "[[ 0  9  8  7  6]\n",
      " [ 0 18 16 14 12]\n",
      " [ 0 27 24 21 18]\n",
      " [ 0 36 32 28 24]\n",
      " [ 0 45 40 35 30]]\n"
     ]
    }
   ],
   "source": [
    "#Операции с векторами\n",
    "vec1 = np.array([1, 2, 3, 4, 5])\n",
    "vec2 = np.array([0, 9, 8, 7, 6])\n",
    "#скалярное произведение\n",
    "print(np.inner(vec1, vec2))\n",
    "print(np.dot(vec1, vec2))\n",
    "print(np.outer(vec1, vec2))"
   ]
  },
  {
   "cell_type": "code",
   "execution_count": 79,
   "id": "a012a3b0",
   "metadata": {},
   "outputs": [
    {
     "name": "stdout",
     "output_type": "stream",
     "text": [
      "42\n"
     ]
    }
   ],
   "source": [
    "#ДЗ 5.4.Скалярное произведение векторов\n",
    "a = np.array([1, 5])\n",
    "b = np.array([2, 8])\n",
    "print(np.inner(a, b))"
   ]
  },
  {
   "cell_type": "code",
   "execution_count": 92,
   "id": "ff15dad2",
   "metadata": {},
   "outputs": [
    {
     "data": {
      "text/plain": [
       "<function matplotlib.pyplot.show(close=None, block=None)>"
      ]
     },
     "execution_count": 92,
     "metadata": {},
     "output_type": "execute_result"
    },
    {
     "data": {
      "image/png": "[encoded data removed]",
      "text/plain": [
       "<Figure size 432x288 with 1 Axes>"
      ]
     },
     "metadata": {
      "needs_background": "light"
     },
     "output_type": "display_data"
    }
   ],
   "source": [
    "# Визуализация векторов\n",
    "X, Y = np.array([0, 0, 0]), np.array([0, 0, 0])\n",
    "U, V = np.array([1, 2, 4]), np.array([4, 2, 1])\n",
    "mpl.pyplot.quiver(X, Y, U, V, angles='xy', scale_units='xy', scale=1)\n",
    "mpl.pyplot.xlim(-5, 6)\n",
    "mpl.pyplot.ylim(-5, 5)\n",
    "mpl.pyplot.grid(True)\n",
    "mpl.pyplot.show()"
   ]
  },
  {
   "cell_type": "code",
   "execution_count": 82,
   "id": "5738bb12",
   "metadata": {},
   "outputs": [
    {
     "data": {
      "text/plain": [
       "5.0990195135927845"
      ]
     },
     "execution_count": 82,
     "metadata": {},
     "output_type": "execute_result"
    }
   ],
   "source": [
    "#расчет длины вектора\n",
    "np.linalg.norm(a)"
   ]
  },
  {
   "cell_type": "code",
   "execution_count": 93,
   "id": "a56e73f6",
   "metadata": {},
   "outputs": [
    {
     "name": "stdout",
     "output_type": "stream",
     "text": [
      "-2\n"
     ]
    }
   ],
   "source": [
    "#векторорное произведение\n",
    "v = np.cross(a, b)\n",
    "print(v)"
   ]
  },
  {
   "cell_type": "code",
   "execution_count": 104,
   "id": "78066bd7",
   "metadata": {},
   "outputs": [
    {
     "name": "stdout",
     "output_type": "stream",
     "text": [
      "[0. 0. 1.]\n"
     ]
    },
    {
     "data": {
      "image/png": "[encoded data removed]",
      "text/plain": [
       "<Figure size 432x288 with 1 Axes>"
      ]
     },
     "metadata": {
      "needs_background": "light"
     },
     "output_type": "display_data"
    }
   ],
   "source": [
    "X, Y, Z = np.array([0, 0, 0]), np.array([0, 0, 0]), np.array([0, 0, 0])\n",
    "a= np.array([1, 0, 0], float)\n",
    "b = np.array([0, 1, 0], float)\n",
    "c = np.cross(a, b)\n",
    "print(c)\n",
    "U, V, W = np.array([a[0], b[0], c[0]]), np.array([a[1], b[1], c[1]]), np.array([a[2], b[2], c[2]])\n",
    "fig = mpl.pyplot.figure()\n",
    "ax = fig.add_subplot(111, projection='3d')\n",
    "ax.quiver(X, Y, Z, U, V, W)\n",
    "ax.set_xlim([0, 5])\n",
    "ax.set_ylim([0, 5])\n",
    "ax.set_xlim([-2, 2])\n",
    "mpl.pyplot.show()"
   ]
  },
  {
   "cell_type": "code",
   "execution_count": 108,
   "id": "fbf7dcbb",
   "metadata": {},
   "outputs": [
    {
     "name": "stdout",
     "output_type": "stream",
     "text": [
      "228.5\n",
      "228.5\n"
     ]
    }
   ],
   "source": [
    "# ДЗ 5.5. Смешанное произведение векторов\n",
    "a = np.array([1, 5, 0], float)\n",
    "b = np.array([2, 8, 7], float)\n",
    "c = np.array([7, 1.5, 3], float)\n",
    "v = np.cross(a, b)\n",
    "print(np.inner(v, c))\n",
    "v = np.cross(b, c)\n",
    "print(np.inner(a, v))"
   ]
  },
  {
   "cell_type": "code",
   "execution_count": null,
   "id": "2576abc2",
   "metadata": {},
   "outputs": [],
   "source": []
  }
 ],
 "metadata": {
  "kernelspec": {
   "display_name": "Python 3 (ipykernel)",
   "language": "python",
   "name": "python3"
  },
  "language_info": {
   "codemirror_mode": {
    "name": "ipython",
    "version": 3
   },
   "file_extension": ".py",
   "mimetype": "text/x-python",
   "name": "python",
   "nbconvert_exporter": "python",
   "pygments_lexer": "ipython3",
   "version": "3.9.12"
  }
 },
 "nbformat": 4,
 "nbformat_minor": 5
}
