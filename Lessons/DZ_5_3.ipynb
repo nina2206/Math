{
 "cells": [
  {
   "cell_type": "code",
   "execution_count": 11,
   "id": "85d9f44f",
   "metadata": {},
   "outputs": [],
   "source": [
    "%matplotlib inline\n",
    "import numpy as np\n",
    "import itertools as itr\n",
    "import math"
   ]
  },
  {
   "cell_type": "code",
   "execution_count": 26,
   "id": "d6c29099",
   "metadata": {},
   "outputs": [
    {
     "name": "stdout",
     "output_type": "stream",
     "text": [
      "187460 500000 0.37492\n"
     ]
    }
   ],
   "source": [
    "k, n = 0, 500000\n",
    "a = np.random.randint(0, 2, n)\n",
    "b = np.random.randint(0, 2, n)\n",
    "c = np.random.randint(0, 2, n)\n",
    "d = np.random.randint(0, 2, n)\n",
    "x = a + b + c + d\n",
    "for i in range(0, n):\n",
    "    if x[i] == 2:\n",
    "        k += 1\n",
    "print(k, n, k/n)"
   ]
  },
  {
   "cell_type": "code",
   "execution_count": 29,
   "id": "141f6cd8",
   "metadata": {},
   "outputs": [
    {
     "name": "stdout",
     "output_type": "stream",
     "text": [
      "0.375\n",
      "Вывод: с ростом количества испытаний по методу Монте-Карло растет точность предсказания вероятности.\n",
      "\n",
      "Результат расчета по методу Монте-Карло приближается к результатуб полученному по формуле Бернулли\n"
     ]
    }
   ],
   "source": [
    "#рассчет вероятнгости двух успехов на 4-х испытаниях по формуле Бернулли\n",
    "n = 4\n",
    "k = 2\n",
    "cnk = math.factorial(n)/(math.factorial(k)*math.factorial(n-k))\n",
    "binom = cnk*0.5**k*0.5**(n-k)\n",
    "print(binom)\n",
    "print('Вывод: с ростом количества испытаний по методу Монте-Карло растет точность предсказания вероятности.\\n')\n",
    "print('Результат расчета по методу Монте-Карло приближается к результатуб полученному по формуле Бернулли')"
   ]
  },
  {
   "cell_type": "code",
   "execution_count": 21,
   "id": "dcae81cd",
   "metadata": {},
   "outputs": [
    {
     "name": "stdout",
     "output_type": "stream",
     "text": [
      "0.24609375\n"
     ]
    }
   ],
   "source": [
    "#рассчет вероятнгости двух успехов на 4-х испытаниях по формуле Бернулли\n",
    "n = 10\n",
    "k = 5\n",
    "cnk = math.factorial(n)/(math.factorial(k)*math.factorial(n-k))\n",
    "binom = cnk*0.5**k*0.5**(n-k)\n",
    "print(binom)"
   ]
  },
  {
   "cell_type": "code",
   "execution_count": null,
   "id": "a1c0befb",
   "metadata": {},
   "outputs": [],
   "source": []
  }
 ],
 "metadata": {
  "kernelspec": {
   "display_name": "Python 3 (ipykernel)",
   "language": "python",
   "name": "python3"
  },
  "language_info": {
   "codemirror_mode": {
    "name": "ipython",
    "version": 3
   },
   "file_extension": ".py",
   "mimetype": "text/x-python",
   "name": "python",
   "nbconvert_exporter": "python",
   "pygments_lexer": "ipython3",
   "version": "3.9.12"
  }
 },
 "nbformat": 4,
 "nbformat_minor": 5
}
